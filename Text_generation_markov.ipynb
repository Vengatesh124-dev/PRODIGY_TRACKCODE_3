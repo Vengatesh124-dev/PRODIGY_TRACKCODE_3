{
  "nbformat": 4,
  "nbformat_minor": 0,
  "metadata": {
    "colab": {
      "provenance": [],
      "authorship_tag": "ABX9TyNrRCMgsqhKff85ixzH3xCy",
      "include_colab_link": true
    },
    "kernelspec": {
      "name": "python3",
      "display_name": "Python 3"
    },
    "language_info": {
      "name": "python"
    }
  },
  "cells": [
    {
      "cell_type": "markdown",
      "metadata": {
        "id": "view-in-github",
        "colab_type": "text"
      },
      "source": [
        "<a href=\"https://colab.research.google.com/github/Vengatesh124-dev/PRODIGY_TRACKCODE_3/blob/main/Text_generation_markov.ipynb\" target=\"_parent\"><img src=\"https://colab.research.google.com/assets/colab-badge.svg\" alt=\"Open In Colab\"/></a>"
      ]
    },
    {
      "cell_type": "code",
      "execution_count": null,
      "metadata": {
        "colab": {
          "base_uri": "https://localhost:8080/"
        },
        "id": "gSXopZmedjbN",
        "outputId": "02b951fb-4ae7-4083-f9e3-c7a14eeadb41"
      },
      "outputs": [
        {
          "output_type": "stream",
          "name": "stdout",
          "text": [
            "Collecting markovify\n",
            "  Downloading markovify-0.9.4-py3-none-any.whl.metadata (23 kB)\n",
            "Collecting unidecode (from markovify)\n",
            "  Downloading Unidecode-1.4.0-py3-none-any.whl.metadata (13 kB)\n",
            "Downloading markovify-0.9.4-py3-none-any.whl (19 kB)\n",
            "Downloading Unidecode-1.4.0-py3-none-any.whl (235 kB)\n",
            "\u001b[2K   \u001b[90m━━━━━━━━━━━━━━━━━━━━━━━━━━━━━━━━━━━━━━━━\u001b[0m \u001b[32m235.8/235.8 kB\u001b[0m \u001b[31m12.7 MB/s\u001b[0m eta \u001b[36m0:00:00\u001b[0m\n",
            "\u001b[?25hInstalling collected packages: unidecode, markovify\n",
            "Successfully installed markovify-0.9.4 unidecode-1.4.0\n"
          ]
        }
      ],
      "source": [
        "!pip install markovify"
      ]
    },
    {
      "cell_type": "code",
      "source": [
        "import markovify\n",
        "import random"
      ],
      "metadata": {
        "id": "EpTUkrGmd3FO"
      },
      "execution_count": null,
      "outputs": []
    },
    {
      "cell_type": "code",
      "source": [
        "with open(\"/content/pride.txt\", encoding='latin-1') as f:\n",
        "  text = f.read()\n",
        "\n",
        "  text_model = markovify.Text(text)"
      ],
      "metadata": {
        "id": "tUjdHnI4d4r2"
      },
      "execution_count": null,
      "outputs": []
    },
    {
      "cell_type": "code",
      "source": [
        "print( text_model.make_sentence() )"
      ],
      "metadata": {
        "colab": {
          "base_uri": "https://localhost:8080/"
        },
        "id": "6aOSLJG1eW_g",
        "outputId": "d589e4a2-da38-4901-8278-3cd8aba7598b"
      },
      "execution_count": null,
      "outputs": [
        {
          "output_type": "stream",
          "name": "stdout",
          "text": [
            "There were few people of fashion. After abusing you to let him seek it.\n"
          ]
        }
      ]
    },
    {
      "cell_type": "code",
      "source": [
        "# generate a short sentence\n",
        "print(text_model.make_short_sentence(140))"
      ],
      "metadata": {
        "colab": {
          "base_uri": "https://localhost:8080/"
        },
        "id": "z3l0YFVjeagD",
        "outputId": "97415d29-f700-4340-c89b-333ce556c0e3"
      },
      "execution_count": null,
      "outputs": [
        {
          "output_type": "stream",
          "name": "stdout",
          "text": [
            "Mr. Collins came up in the visit.\n"
          ]
        }
      ]
    },
    {
      "cell_type": "code",
      "source": [
        "for i in range(12):\n",
        "  # Assuming you want to use the previously defined 'text_model'\n",
        "  print( text_model.make_sentence() )"
      ],
      "metadata": {
        "colab": {
          "base_uri": "https://localhost:8080/"
        },
        "id": "ak5CdImXefVT",
        "outputId": "21ea4d55-6557-4632-ae9f-32975a1aab94"
      },
      "execution_count": null,
      "outputs": [
        {
          "output_type": "stream",
          "name": "stdout",
          "text": [
            "The sexes are equally as abundant at Port Essington; I encountered it in pairs, but more often repeated towards the original than she expected.\n",
            "She is a paltry device, a very rational account of its being Colonel Fitzwilliam had been flogged, and it was such a visit, was delighted at her friend had left him that her daughter had played as long as she did conquer her fathers incredulity, and reconcile him to speak of its skin, and its actions and manners it is quite impossible; for he is about.\n",
            "I will not be able to keep my countenance.\n",
            "With the kindest concern he came back again in the militia, it did not I am ashamed of what was going to Brighton was all aimed, was still more formidable.\n",
            "I found their crops are always buying books. The pause was to distribute her presents and describe the newest fashions.\n",
            "My dearest child, she cried, come back and wings conspicuously marked with obscure transverse lines of grey and black; primaries light brown, the centre of the continent of Australia in which I think not.\n",
            "On Mr. and Mrs. Collinss happiness; and that I cannot tell; but you must not fail of being mistress of Pemberley and its pectoral muscle, render its appearance to be laughed at! cried Elizabeth.\n",
            "Will you allow me, or do I ask too much, to introduce you. But the spiritless condition which this elegant little Lorikeet was first brought before the hope of keeping him there, and hoped it might strike them that Mr. Bingley, was incomprehensible.\n",
            "Let me recommend you, however, as to curtsey and hold out her hand; he kissed it with a narrow band of black on the centre of each other, was soon donedone while Mrs. Collins has made an agreement to expose my real character, had information for them before the notice of this beautiful bird may generally be regarded as a rational creature, speaking the truth of everything here related, I can collect by your three younger sisters out, Miss Bennet? Of its nidification nothing is to be on his account of my witsand have such pleasant accounts from our friends at Netherfield, or his dignified relations at Rosings, and had left gaming debts behind him to expect an addition to her all the other day, of his own happiness, and immediately accounting for it; but in form they all sat down, resolving within herself to be laughed at! cried Elizabeth.\n",
            "I hope among different people, where he could neither of you for being so.\n",
            "It is very generally dispersed over a great loss to understand that her brother mentioning a country the climate of which you have to tell him that her sister was such, during dinner did Mr. Bennet seemed out of Longbourn House the next day.\n",
            "For you are looking for my mannersmy behaviour to Wickham; and though, in comparing them, she should have said no more, and was certain of the natural size.\n"
          ]
        }
      ]
    },
    {
      "cell_type": "code",
      "source": [],
      "metadata": {
        "id": "8xj6PziJe7pv"
      },
      "execution_count": null,
      "outputs": []
    },
    {
      "cell_type": "code",
      "source": [
        "with open(\"/content/pride.txt\", encoding='latin-1') as f:\n",
        "  text = f.read()\n",
        "\n",
        "\n",
        "text_model = markovify.Text(text)"
      ],
      "metadata": {
        "id": "gWY6v3g0ejA1"
      },
      "execution_count": null,
      "outputs": []
    },
    {
      "cell_type": "code",
      "source": [
        "print( text_model.make_sentence() )"
      ],
      "metadata": {
        "colab": {
          "base_uri": "https://localhost:8080/"
        },
        "id": "ZMi0iqJCemiJ",
        "outputId": "c66ddee4-2a7c-4814-c248-77a7db6ebba9"
      },
      "execution_count": null,
      "outputs": [
        {
          "output_type": "stream",
          "name": "stdout",
          "text": [
            "There was also a remarkable deviation from the circumstance of my family, and looked in her power to assure us of his were directed in a hole about two feet deep; it was a most charming young man, too, like you, whose very countenance may vouch for the sake of discovering them. This is not fair to condemn them.\n"
          ]
        }
      ]
    },
    {
      "cell_type": "code",
      "source": [
        "novel = ''\n",
        "while (len( novel.split(\" \")) < 500):\n",
        "  for i in range(random.randrange(3,9)):\n",
        "    novel += text_model.make_sentence() + \" \"\n",
        "  novel += \"\\n\\n\"\n",
        "    # print(text_model.make_sentence()\n",
        "\n",
        "print(novel)"
      ],
      "metadata": {
        "id": "d6KOltN-fBQz",
        "outputId": "1606349b-3257-4563-a74d-2306e3dff54d",
        "colab": {
          "base_uri": "https://localhost:8080/"
        }
      },
      "execution_count": null,
      "outputs": [
        {
          "output_type": "stream",
          "name": "stdout",
          "text": [
            "Chapter 21 Chapter 22 The Bennets were speedily applied to this country by Captain Sturt some years since, when he presented a beautiful wood stretching over a great deal more than a young man in any possible way that gave her all dinner-time. We have not been for many yards around, forming a new gown, or a really new muslin in a whisper: The men shant come and stay with her two friends, and led him to say to you, Lizzy? The manner in rejecting my suit, perhaps it was a man whose proposals she had lost much of its being Colonel Fitzwilliam had been brought on by her cousin will unite the two gentlemen came directly towards them, and, concluding that she had ever been celebrated for its subsistence upon the spot where I had not been to the seabeach; it appears to me by my friend B. Bynoe, Esq., who informed me that anybody might have of being married, a girl who has lived in it, the green plumage to the horizontal branch of which I do not look on the probability of gaining intelligence. Miss Bennets general habits, she was tempted, by the colonists. Birds of Australia, Part IV. \n",
            "\n",
            "Bingley replied that it was such as undulating grassy hills between that river and the basal portions of the primaries rich blue, below which are instituted by the birds of the head, cheeks, scapularies, back and walk with her. Mrs. Bennet found, with amazement and horror, Mr. Gardiner himself did not answer to her uncle and aunt, that I cannot positively affirm that the birds of both webs; secondaries brown on the hour, or the Polygonum junceum. Indeed he has been supposed that any number may be frequently heard, the bird here represented, but as we thought alike of Miss Darcy looked up. Mr. Gilbert in the first tumult of Elizabeths mind was not aware, until after the assembly room it consisted of only a few balls there every winter. I was right, but I cannot bear to hear that many persons who hear it from among the Gallinaceæ, with the smallest objection, and the mortification of seeing her she could not have danced half so well pleased with it. \n",
            "\n",
            "I should at this representation of the feather, and the abdomen rich orange, in the male. The very last day or two greater coverts deep red; back of the Upper Hunter, when my aunt Phillips wants you in his humble abode, and the female is grey. In what an amiable man as Mr. Gardiner himself did not vary on seeing Lydia. Next to being married, a girl who has lived in it, the green plumage to the south coast, as can well be imagined. But pridewhere there is reason to imagine that much has been the principal, if not quite so obstinate as usual. Oh that I never, during my stay in that short period saw him walking slowly towards the tip. The general prejudice against everything he might have fancied too much. The motive professed was his godson, his kindness to Jane, to see him stand up with. Unless the elder brother is the most honourable terms, it was welcome intelligenceElizabeth had been with you! you have known her again. Mrs. Bennet with civil self-command to Miss Lydia Bennet come upon the town; or, as the Banksiæ are to that other, more weighty accusation, of having it in our journey hither, I have something to his appointment; and he listened to half their length, the extreme beauty of plumage also characterizes the male is a frail structure of its reasonableness. \n",
            "\n",
            "\n"
          ]
        }
      ]
    }
  ]
}